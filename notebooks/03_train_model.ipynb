{
  "cells": [
    {
      "cell_type": "markdown",
      "metadata": {},
      "source": "# 03 — Train Model\nSaves `models/model.joblib` and `models/feature_meta.json`."
    },
    {
      "cell_type": "code",
      "execution_count": null,
      "metadata": {},
      "outputs": [],
      "source": "import sys, pathlib\nhere = pathlib.Path().resolve()\nROOT = here if (here/'src').exists() else here.parent\nsys.path.insert(0, str(ROOT))\nprint('ROOT =', ROOT)\n"
    },
    {
      "cell_type": "code",
      "execution_count": null,
      "metadata": {},
      "outputs": [],
      "source": "from src import train\ntrain.main()"
    },
    {
      "cell_type": "code",
      "execution_count": null,
      "metadata": {},
      "outputs": [],
      "source": "from pathlib import Path\nprint((Path('models')/'model.joblib').exists(), (Path('models')/'feature_meta.json').exists())"
    }
  ],
  "metadata": {
    "kernelspec": {
      "display_name": "Python 3",
      "language": "python",
      "name": "python3"
    },
    "language_info": {
      "name": "python",
      "version": "3.10"
    }
  },
  "nbformat": 4,
  "nbformat_minor": 5
}