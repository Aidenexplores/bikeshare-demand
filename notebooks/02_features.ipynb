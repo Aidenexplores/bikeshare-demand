{
  "cells": [
    {
      "cell_type": "markdown",
      "metadata": {},
      "source": "# 02 — Build Daily Features\nBuilds `data/processed/daily_features.*`."
    },
    {
      "cell_type": "code",
      "execution_count": null,
      "metadata": {},
      "outputs": [],
      "source": "import sys, pathlib\nhere = pathlib.Path().resolve()\nROOT = here if (here/'src').exists() else here.parent\nsys.path.insert(0, str(ROOT))\nprint('ROOT =', ROOT)\n"
    },
    {
      "cell_type": "code",
      "execution_count": null,
      "metadata": {},
      "outputs": [],
      "source": "from src import features\nfeatures.main()"
    },
    {
      "cell_type": "code",
      "execution_count": null,
      "metadata": {},
      "outputs": [],
      "source": "import pandas as pd, pathlib\np = pathlib.Path('data/processed')\nf = p/'daily_features.parquet'\nif not f.exists(): f = p/'daily_features.csv.gz'\ndf = pd.read_parquet(f) if f.suffix=='.parquet' else pd.read_csv(f, parse_dates=['trip_date'])\nprint(df.shape)\ndf.head(3)"
    }
  ],
  "metadata": {
    "kernelspec": {
      "display_name": "Python 3",
      "language": "python",
      "name": "python3"
    },
    "language_info": {
      "name": "python",
      "version": "3.10"
    }
  },
  "nbformat": 4,
  "nbformat_minor": 5
}