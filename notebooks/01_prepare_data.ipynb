{
  "cells": [
    {
      "cell_type": "markdown",
      "metadata": {},
      "source": "# 01 — Prepare Data\nBuilds `data/processed/trips_clean.csv.gz`."
    },
    {
      "cell_type": "code",
      "execution_count": null,
      "metadata": {},
      "outputs": [],
      "source": "import sys, pathlib\nhere = pathlib.Path().resolve()\nROOT = here if (here/'src').exists() else here.parent\nsys.path.insert(0, str(ROOT))\nprint('ROOT =', ROOT)\n"
    },
    {
      "cell_type": "code",
      "execution_count": null,
      "metadata": {},
      "outputs": [],
      "source": "from src import prepare_data\nprepare_data.main()"
    },
    {
      "cell_type": "code",
      "execution_count": null,
      "metadata": {},
      "outputs": [],
      "source": "import pandas as pd, pathlib\np = pathlib.Path('data/processed')\nf = next(iter(p.glob('trips_clean.*')), None)\nprint('Output:', f)\nprint(pd.read_csv(f, nrows=5).head())"
    }
  ],
  "metadata": {
    "kernelspec": {
      "display_name": "Python 3",
      "language": "python",
      "name": "python3"
    },
    "language_info": {
      "name": "python",
      "version": "3.10"
    }
  },
  "nbformat": 4,
  "nbformat_minor": 5
}