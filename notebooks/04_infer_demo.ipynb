{
  "cells": [
    {
      "cell_type": "markdown",
      "metadata": {},
      "source": "# 04 — Inference Demo\nForecast next days for a station."
    },
    {
      "cell_type": "code",
      "execution_count": null,
      "metadata": {},
      "outputs": [],
      "source": "import sys, pathlib\nhere = pathlib.Path().resolve()\nROOT = here if (here/'src').exists() else here.parent\nsys.path.insert(0, str(ROOT))\nprint('ROOT =', ROOT)\n"
    },
    {
      "cell_type": "code",
      "execution_count": null,
      "metadata": {},
      "outputs": [],
      "source": "from src.infer import forecast\nstation = 7000\nhorizon = 14\nanchor = None\npred = forecast(station=station, horizon=horizon, anchor=anchor)\npred"
    }
  ],
  "metadata": {
    "kernelspec": {
      "display_name": "Python 3",
      "language": "python",
      "name": "python3"
    },
    "language_info": {
      "name": "python",
      "version": "3.10"
    }
  },
  "nbformat": 4,
  "nbformat_minor": 5
}